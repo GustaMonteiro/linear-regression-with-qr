{
 "cells": [
  {
   "cell_type": "markdown",
   "id": "6efc812a-47ea-4e62-9e63-be52e347b1d5",
   "metadata": {},
   "source": [
    "# Regressão Linear"
   ]
  },
  {
   "cell_type": "markdown",
   "id": "0680e414-50f2-4222-b814-739bafe22491",
   "metadata": {},
   "source": [
    "## Resumo\n",
    "\n",
    "O presente trabalho consiste em aplicar regressão linear, utilizando decomposição QR, no dataset **Admission Predict**, na versão 1.1. O dataset consiste em um conjunto de notas de um alunos e universidades e na última coluna a chance de o aluno ser admitido em um curso. Foi calculado a Raiz Quadrada do Erro Quadrático Médio (RMSE) do conjunto de testes, e como resultado tivemos $0.060$.\n",
    "\n",
    "### Regressão linear\n",
    "\n",
    "A regressão linear é uma técnica estatística utilizada para entender a relação entre uma variável dependente (a variável que estamos tentando prever, nesse caso a chance de admissão de um candidato) e uma ou mais variáveis independentes (os recursos ou preditores, que nesse caso são as notas, etc). O objetivo principal da regressão linear é modelar essa relação de forma a prever a variável dependente com base nos valores dos recursos.\n",
    "\n",
    "A regressão linear assume que a relação entre as variáveis é linear, ou seja, pode ser representada por uma linha reta. Dificilmente (para não dizer que é impossível) um sistema real poderá ser definido por uma reta e, justamente por isso, o modelo de regressão linear busca encontrar a melhor linha reta que se ajusta aos dados, minimizando a diferença entre os valores previstos e os valores reais (erro).\n",
    "\n",
    "### Decomposição QR\n",
    "\n",
    "A decomposição QR foi escolhida para ser usada na regressão linear devido a sua estabilidade numérica e eficiência computacional. Sem ela, seria necessário calcular inversas de matrizes visando encontrar a solução de mínimos quadrados (mais aproximada) do sistema $Ax=b$, porém calcular inversas é computacionalmente ruim.\n",
    "\n",
    "O objetivo aqui é decompor a matriz $A$ em duas matrizes $Q$ e $R$, onde $Q$ é uma matriz ortogonal, onde todas as colunas são ortonormais, e $R$ é uma matriz triangular superior. Isso simplifica a resolução do sistema de equações lineares. A função `scipy.linalg.qr()` é usada para calcular essa decomposição. Em seguida, a equação normal é resolvida utilizando `scipy.linalg.solve_triangular()` para encontrar os coeficientes do modelo."
   ]
  },
  {
   "cell_type": "markdown",
   "id": "4f5b8c25-71dd-41c5-8b1c-ba7aa2e2d011",
   "metadata": {},
   "source": [
    "## Resolução"
   ]
  },
  {
   "cell_type": "markdown",
   "id": "340dcf45-89f8-47b4-a70f-26879b1669ad",
   "metadata": {},
   "source": [
    "### Importando bibliotecas e definindo funções"
   ]
  },
  {
   "cell_type": "markdown",
   "id": "0ebc1b79-c689-441a-b1f4-c9c264518c2d",
   "metadata": {},
   "source": [
    "Importando as bibliotecas principais que serão utilizadas."
   ]
  },
  {
   "cell_type": "code",
   "execution_count": 1,
   "id": "6cf79f17-f966-4b9e-8be4-92d2df18064e",
   "metadata": {},
   "outputs": [],
   "source": [
    "import pandas as pd\n",
    "import numpy as np\n",
    "import matplotlib.pyplot as plt\n",
    "from scipy.linalg import qr\n",
    "from scipy.linalg import solve_triangular\n",
    "from sklearn.model_selection import train_test_split\n",
    "from sklearn.metrics import mean_squared_error\n",
    "import os\n",
    "import time\n",
    "\n",
    "WORKSPACE = os.path.curdir\n",
    "DATASET_PATH = os.path.join(WORKSPACE, \"dataset\", \"Admission_Predict_Ver1.1.csv\")\n",
    "\n",
    "def calculate_rmse(real, pred):\n",
    "    return np.sqrt(mean_squared_error(real, pred))\n",
    "\n",
    "def add_bias_column(matrix):\n",
    "    return np.hstack((matrix, np.ones((matrix.shape[0], 1))))\n",
    "\n",
    "def plot_real_vs_pred_graph(real, pred):\n",
    "    plt.scatter(real, pred)\n",
    "    plt.plot([real.min(), real.max()], [real.min(), real.max()], '--k')\n",
    "    plt.xlabel('Valores Reais')\n",
    "    plt.ylabel('Valores Estimados')\n",
    "    plt.title('Valores Reais vs. Valores Estimados')\n",
    "    plt.show()\n"
   ]
  },
  {
   "cell_type": "markdown",
   "id": "548c69e5-b7f3-4dc5-9e3b-246f218be48a",
   "metadata": {},
   "source": [
    "### Carregando dataset e uma breve análise"
   ]
  },
  {
   "cell_type": "markdown",
   "id": "c408e3ae-085c-48d4-9db1-ada4dab33771",
   "metadata": {},
   "source": [
    "Carregando o dataset."
   ]
  },
  {
   "cell_type": "code",
   "execution_count": 2,
   "id": "0597b2af-4d2b-4b22-9def-702585dba4d9",
   "metadata": {},
   "outputs": [
    {
     "data": {
      "text/html": [
       "<div>\n",
       "<style scoped>\n",
       "    .dataframe tbody tr th:only-of-type {\n",
       "        vertical-align: middle;\n",
       "    }\n",
       "\n",
       "    .dataframe tbody tr th {\n",
       "        vertical-align: top;\n",
       "    }\n",
       "\n",
       "    .dataframe thead th {\n",
       "        text-align: right;\n",
       "    }\n",
       "</style>\n",
       "<table border=\"1\" class=\"dataframe\">\n",
       "  <thead>\n",
       "    <tr style=\"text-align: right;\">\n",
       "      <th></th>\n",
       "      <th>Serial No.</th>\n",
       "      <th>GRE Score</th>\n",
       "      <th>TOEFL Score</th>\n",
       "      <th>University Rating</th>\n",
       "      <th>SOP</th>\n",
       "      <th>LOR</th>\n",
       "      <th>CGPA</th>\n",
       "      <th>Research</th>\n",
       "      <th>Chance of Admit</th>\n",
       "    </tr>\n",
       "  </thead>\n",
       "  <tbody>\n",
       "    <tr>\n",
       "      <th>0</th>\n",
       "      <td>1</td>\n",
       "      <td>337</td>\n",
       "      <td>118</td>\n",
       "      <td>4</td>\n",
       "      <td>4.5</td>\n",
       "      <td>4.5</td>\n",
       "      <td>9.65</td>\n",
       "      <td>1</td>\n",
       "      <td>0.92</td>\n",
       "    </tr>\n",
       "    <tr>\n",
       "      <th>1</th>\n",
       "      <td>2</td>\n",
       "      <td>324</td>\n",
       "      <td>107</td>\n",
       "      <td>4</td>\n",
       "      <td>4.0</td>\n",
       "      <td>4.5</td>\n",
       "      <td>8.87</td>\n",
       "      <td>1</td>\n",
       "      <td>0.76</td>\n",
       "    </tr>\n",
       "    <tr>\n",
       "      <th>2</th>\n",
       "      <td>3</td>\n",
       "      <td>316</td>\n",
       "      <td>104</td>\n",
       "      <td>3</td>\n",
       "      <td>3.0</td>\n",
       "      <td>3.5</td>\n",
       "      <td>8.00</td>\n",
       "      <td>1</td>\n",
       "      <td>0.72</td>\n",
       "    </tr>\n",
       "    <tr>\n",
       "      <th>3</th>\n",
       "      <td>4</td>\n",
       "      <td>322</td>\n",
       "      <td>110</td>\n",
       "      <td>3</td>\n",
       "      <td>3.5</td>\n",
       "      <td>2.5</td>\n",
       "      <td>8.67</td>\n",
       "      <td>1</td>\n",
       "      <td>0.80</td>\n",
       "    </tr>\n",
       "    <tr>\n",
       "      <th>4</th>\n",
       "      <td>5</td>\n",
       "      <td>314</td>\n",
       "      <td>103</td>\n",
       "      <td>2</td>\n",
       "      <td>2.0</td>\n",
       "      <td>3.0</td>\n",
       "      <td>8.21</td>\n",
       "      <td>0</td>\n",
       "      <td>0.65</td>\n",
       "    </tr>\n",
       "    <tr>\n",
       "      <th>...</th>\n",
       "      <td>...</td>\n",
       "      <td>...</td>\n",
       "      <td>...</td>\n",
       "      <td>...</td>\n",
       "      <td>...</td>\n",
       "      <td>...</td>\n",
       "      <td>...</td>\n",
       "      <td>...</td>\n",
       "      <td>...</td>\n",
       "    </tr>\n",
       "    <tr>\n",
       "      <th>495</th>\n",
       "      <td>496</td>\n",
       "      <td>332</td>\n",
       "      <td>108</td>\n",
       "      <td>5</td>\n",
       "      <td>4.5</td>\n",
       "      <td>4.0</td>\n",
       "      <td>9.02</td>\n",
       "      <td>1</td>\n",
       "      <td>0.87</td>\n",
       "    </tr>\n",
       "    <tr>\n",
       "      <th>496</th>\n",
       "      <td>497</td>\n",
       "      <td>337</td>\n",
       "      <td>117</td>\n",
       "      <td>5</td>\n",
       "      <td>5.0</td>\n",
       "      <td>5.0</td>\n",
       "      <td>9.87</td>\n",
       "      <td>1</td>\n",
       "      <td>0.96</td>\n",
       "    </tr>\n",
       "    <tr>\n",
       "      <th>497</th>\n",
       "      <td>498</td>\n",
       "      <td>330</td>\n",
       "      <td>120</td>\n",
       "      <td>5</td>\n",
       "      <td>4.5</td>\n",
       "      <td>5.0</td>\n",
       "      <td>9.56</td>\n",
       "      <td>1</td>\n",
       "      <td>0.93</td>\n",
       "    </tr>\n",
       "    <tr>\n",
       "      <th>498</th>\n",
       "      <td>499</td>\n",
       "      <td>312</td>\n",
       "      <td>103</td>\n",
       "      <td>4</td>\n",
       "      <td>4.0</td>\n",
       "      <td>5.0</td>\n",
       "      <td>8.43</td>\n",
       "      <td>0</td>\n",
       "      <td>0.73</td>\n",
       "    </tr>\n",
       "    <tr>\n",
       "      <th>499</th>\n",
       "      <td>500</td>\n",
       "      <td>327</td>\n",
       "      <td>113</td>\n",
       "      <td>4</td>\n",
       "      <td>4.5</td>\n",
       "      <td>4.5</td>\n",
       "      <td>9.04</td>\n",
       "      <td>0</td>\n",
       "      <td>0.84</td>\n",
       "    </tr>\n",
       "  </tbody>\n",
       "</table>\n",
       "<p>500 rows × 9 columns</p>\n",
       "</div>"
      ],
      "text/plain": [
       "     Serial No.  GRE Score  TOEFL Score  University Rating  SOP  LOR   CGPA  \\\n",
       "0             1        337          118                  4  4.5   4.5  9.65   \n",
       "1             2        324          107                  4  4.0   4.5  8.87   \n",
       "2             3        316          104                  3  3.0   3.5  8.00   \n",
       "3             4        322          110                  3  3.5   2.5  8.67   \n",
       "4             5        314          103                  2  2.0   3.0  8.21   \n",
       "..          ...        ...          ...                ...  ...   ...   ...   \n",
       "495         496        332          108                  5  4.5   4.0  9.02   \n",
       "496         497        337          117                  5  5.0   5.0  9.87   \n",
       "497         498        330          120                  5  4.5   5.0  9.56   \n",
       "498         499        312          103                  4  4.0   5.0  8.43   \n",
       "499         500        327          113                  4  4.5   4.5  9.04   \n",
       "\n",
       "     Research  Chance of Admit  \n",
       "0           1             0.92  \n",
       "1           1             0.76  \n",
       "2           1             0.72  \n",
       "3           1             0.80  \n",
       "4           0             0.65  \n",
       "..        ...              ...  \n",
       "495         1             0.87  \n",
       "496         1             0.96  \n",
       "497         1             0.93  \n",
       "498         0             0.73  \n",
       "499         0             0.84  \n",
       "\n",
       "[500 rows x 9 columns]"
      ]
     },
     "execution_count": 2,
     "metadata": {},
     "output_type": "execute_result"
    }
   ],
   "source": [
    "dataset = pd.read_csv(DATASET_PATH, sep=\",\")\n",
    "dataset"
   ]
  },
  {
   "cell_type": "markdown",
   "id": "a647eca2-8dd2-4391-92a5-f3578bf20337",
   "metadata": {},
   "source": [
    "Como a primeira coluna do dataset é apenas um número serial, não possui impacto nenhum na regressão, então vamos remover essa coluna do dataset, ficando apenas com as outras 8 colunas restantes (contando as variaveis independentes e a variável dependente)."
   ]
  },
  {
   "cell_type": "code",
   "execution_count": 3,
   "id": "f07774e2-53d0-4d0d-9ad3-c18284eebb44",
   "metadata": {},
   "outputs": [
    {
     "data": {
      "text/html": [
       "<div>\n",
       "<style scoped>\n",
       "    .dataframe tbody tr th:only-of-type {\n",
       "        vertical-align: middle;\n",
       "    }\n",
       "\n",
       "    .dataframe tbody tr th {\n",
       "        vertical-align: top;\n",
       "    }\n",
       "\n",
       "    .dataframe thead th {\n",
       "        text-align: right;\n",
       "    }\n",
       "</style>\n",
       "<table border=\"1\" class=\"dataframe\">\n",
       "  <thead>\n",
       "    <tr style=\"text-align: right;\">\n",
       "      <th></th>\n",
       "      <th>GRE Score</th>\n",
       "      <th>TOEFL Score</th>\n",
       "      <th>University Rating</th>\n",
       "      <th>SOP</th>\n",
       "      <th>LOR</th>\n",
       "      <th>CGPA</th>\n",
       "      <th>Research</th>\n",
       "      <th>Chance of Admit</th>\n",
       "    </tr>\n",
       "  </thead>\n",
       "  <tbody>\n",
       "    <tr>\n",
       "      <th>0</th>\n",
       "      <td>337</td>\n",
       "      <td>118</td>\n",
       "      <td>4</td>\n",
       "      <td>4.5</td>\n",
       "      <td>4.5</td>\n",
       "      <td>9.65</td>\n",
       "      <td>1</td>\n",
       "      <td>0.92</td>\n",
       "    </tr>\n",
       "    <tr>\n",
       "      <th>1</th>\n",
       "      <td>324</td>\n",
       "      <td>107</td>\n",
       "      <td>4</td>\n",
       "      <td>4.0</td>\n",
       "      <td>4.5</td>\n",
       "      <td>8.87</td>\n",
       "      <td>1</td>\n",
       "      <td>0.76</td>\n",
       "    </tr>\n",
       "    <tr>\n",
       "      <th>2</th>\n",
       "      <td>316</td>\n",
       "      <td>104</td>\n",
       "      <td>3</td>\n",
       "      <td>3.0</td>\n",
       "      <td>3.5</td>\n",
       "      <td>8.00</td>\n",
       "      <td>1</td>\n",
       "      <td>0.72</td>\n",
       "    </tr>\n",
       "    <tr>\n",
       "      <th>3</th>\n",
       "      <td>322</td>\n",
       "      <td>110</td>\n",
       "      <td>3</td>\n",
       "      <td>3.5</td>\n",
       "      <td>2.5</td>\n",
       "      <td>8.67</td>\n",
       "      <td>1</td>\n",
       "      <td>0.80</td>\n",
       "    </tr>\n",
       "    <tr>\n",
       "      <th>4</th>\n",
       "      <td>314</td>\n",
       "      <td>103</td>\n",
       "      <td>2</td>\n",
       "      <td>2.0</td>\n",
       "      <td>3.0</td>\n",
       "      <td>8.21</td>\n",
       "      <td>0</td>\n",
       "      <td>0.65</td>\n",
       "    </tr>\n",
       "    <tr>\n",
       "      <th>...</th>\n",
       "      <td>...</td>\n",
       "      <td>...</td>\n",
       "      <td>...</td>\n",
       "      <td>...</td>\n",
       "      <td>...</td>\n",
       "      <td>...</td>\n",
       "      <td>...</td>\n",
       "      <td>...</td>\n",
       "    </tr>\n",
       "    <tr>\n",
       "      <th>495</th>\n",
       "      <td>332</td>\n",
       "      <td>108</td>\n",
       "      <td>5</td>\n",
       "      <td>4.5</td>\n",
       "      <td>4.0</td>\n",
       "      <td>9.02</td>\n",
       "      <td>1</td>\n",
       "      <td>0.87</td>\n",
       "    </tr>\n",
       "    <tr>\n",
       "      <th>496</th>\n",
       "      <td>337</td>\n",
       "      <td>117</td>\n",
       "      <td>5</td>\n",
       "      <td>5.0</td>\n",
       "      <td>5.0</td>\n",
       "      <td>9.87</td>\n",
       "      <td>1</td>\n",
       "      <td>0.96</td>\n",
       "    </tr>\n",
       "    <tr>\n",
       "      <th>497</th>\n",
       "      <td>330</td>\n",
       "      <td>120</td>\n",
       "      <td>5</td>\n",
       "      <td>4.5</td>\n",
       "      <td>5.0</td>\n",
       "      <td>9.56</td>\n",
       "      <td>1</td>\n",
       "      <td>0.93</td>\n",
       "    </tr>\n",
       "    <tr>\n",
       "      <th>498</th>\n",
       "      <td>312</td>\n",
       "      <td>103</td>\n",
       "      <td>4</td>\n",
       "      <td>4.0</td>\n",
       "      <td>5.0</td>\n",
       "      <td>8.43</td>\n",
       "      <td>0</td>\n",
       "      <td>0.73</td>\n",
       "    </tr>\n",
       "    <tr>\n",
       "      <th>499</th>\n",
       "      <td>327</td>\n",
       "      <td>113</td>\n",
       "      <td>4</td>\n",
       "      <td>4.5</td>\n",
       "      <td>4.5</td>\n",
       "      <td>9.04</td>\n",
       "      <td>0</td>\n",
       "      <td>0.84</td>\n",
       "    </tr>\n",
       "  </tbody>\n",
       "</table>\n",
       "<p>500 rows × 8 columns</p>\n",
       "</div>"
      ],
      "text/plain": [
       "     GRE Score  TOEFL Score  University Rating  SOP  LOR   CGPA  Research  \\\n",
       "0          337          118                  4  4.5   4.5  9.65         1   \n",
       "1          324          107                  4  4.0   4.5  8.87         1   \n",
       "2          316          104                  3  3.0   3.5  8.00         1   \n",
       "3          322          110                  3  3.5   2.5  8.67         1   \n",
       "4          314          103                  2  2.0   3.0  8.21         0   \n",
       "..         ...          ...                ...  ...   ...   ...       ...   \n",
       "495        332          108                  5  4.5   4.0  9.02         1   \n",
       "496        337          117                  5  5.0   5.0  9.87         1   \n",
       "497        330          120                  5  4.5   5.0  9.56         1   \n",
       "498        312          103                  4  4.0   5.0  8.43         0   \n",
       "499        327          113                  4  4.5   4.5  9.04         0   \n",
       "\n",
       "     Chance of Admit  \n",
       "0               0.92  \n",
       "1               0.76  \n",
       "2               0.72  \n",
       "3               0.80  \n",
       "4               0.65  \n",
       "..               ...  \n",
       "495             0.87  \n",
       "496             0.96  \n",
       "497             0.93  \n",
       "498             0.73  \n",
       "499             0.84  \n",
       "\n",
       "[500 rows x 8 columns]"
      ]
     },
     "execution_count": 3,
     "metadata": {},
     "output_type": "execute_result"
    }
   ],
   "source": [
    "dataset = dataset.drop(\"Serial No.\", axis=1)\n",
    "dataset"
   ]
  },
  {
   "cell_type": "markdown",
   "id": "a0e9cc1c-20e0-4546-9fc0-ec0625af3ae0",
   "metadata": {},
   "source": [
    "Apenas um descritivo do dataset."
   ]
  },
  {
   "cell_type": "code",
   "execution_count": 4,
   "id": "930d36a1-692f-4360-8805-eebecb3242fa",
   "metadata": {},
   "outputs": [
    {
     "data": {
      "text/html": [
       "<div>\n",
       "<style scoped>\n",
       "    .dataframe tbody tr th:only-of-type {\n",
       "        vertical-align: middle;\n",
       "    }\n",
       "\n",
       "    .dataframe tbody tr th {\n",
       "        vertical-align: top;\n",
       "    }\n",
       "\n",
       "    .dataframe thead th {\n",
       "        text-align: right;\n",
       "    }\n",
       "</style>\n",
       "<table border=\"1\" class=\"dataframe\">\n",
       "  <thead>\n",
       "    <tr style=\"text-align: right;\">\n",
       "      <th></th>\n",
       "      <th>GRE Score</th>\n",
       "      <th>TOEFL Score</th>\n",
       "      <th>University Rating</th>\n",
       "      <th>SOP</th>\n",
       "      <th>LOR</th>\n",
       "      <th>CGPA</th>\n",
       "      <th>Research</th>\n",
       "      <th>Chance of Admit</th>\n",
       "    </tr>\n",
       "  </thead>\n",
       "  <tbody>\n",
       "    <tr>\n",
       "      <th>count</th>\n",
       "      <td>500.00</td>\n",
       "      <td>500.00</td>\n",
       "      <td>500.00</td>\n",
       "      <td>500.00</td>\n",
       "      <td>500.00</td>\n",
       "      <td>500.00</td>\n",
       "      <td>500.00</td>\n",
       "      <td>500.00</td>\n",
       "    </tr>\n",
       "    <tr>\n",
       "      <th>mean</th>\n",
       "      <td>316.47</td>\n",
       "      <td>107.19</td>\n",
       "      <td>3.11</td>\n",
       "      <td>3.37</td>\n",
       "      <td>3.48</td>\n",
       "      <td>8.58</td>\n",
       "      <td>0.56</td>\n",
       "      <td>0.72</td>\n",
       "    </tr>\n",
       "    <tr>\n",
       "      <th>std</th>\n",
       "      <td>11.30</td>\n",
       "      <td>6.08</td>\n",
       "      <td>1.14</td>\n",
       "      <td>0.99</td>\n",
       "      <td>0.93</td>\n",
       "      <td>0.60</td>\n",
       "      <td>0.50</td>\n",
       "      <td>0.14</td>\n",
       "    </tr>\n",
       "    <tr>\n",
       "      <th>min</th>\n",
       "      <td>290.00</td>\n",
       "      <td>92.00</td>\n",
       "      <td>1.00</td>\n",
       "      <td>1.00</td>\n",
       "      <td>1.00</td>\n",
       "      <td>6.80</td>\n",
       "      <td>0.00</td>\n",
       "      <td>0.34</td>\n",
       "    </tr>\n",
       "    <tr>\n",
       "      <th>25%</th>\n",
       "      <td>308.00</td>\n",
       "      <td>103.00</td>\n",
       "      <td>2.00</td>\n",
       "      <td>2.50</td>\n",
       "      <td>3.00</td>\n",
       "      <td>8.13</td>\n",
       "      <td>0.00</td>\n",
       "      <td>0.63</td>\n",
       "    </tr>\n",
       "    <tr>\n",
       "      <th>50%</th>\n",
       "      <td>317.00</td>\n",
       "      <td>107.00</td>\n",
       "      <td>3.00</td>\n",
       "      <td>3.50</td>\n",
       "      <td>3.50</td>\n",
       "      <td>8.56</td>\n",
       "      <td>1.00</td>\n",
       "      <td>0.72</td>\n",
       "    </tr>\n",
       "    <tr>\n",
       "      <th>75%</th>\n",
       "      <td>325.00</td>\n",
       "      <td>112.00</td>\n",
       "      <td>4.00</td>\n",
       "      <td>4.00</td>\n",
       "      <td>4.00</td>\n",
       "      <td>9.04</td>\n",
       "      <td>1.00</td>\n",
       "      <td>0.82</td>\n",
       "    </tr>\n",
       "    <tr>\n",
       "      <th>max</th>\n",
       "      <td>340.00</td>\n",
       "      <td>120.00</td>\n",
       "      <td>5.00</td>\n",
       "      <td>5.00</td>\n",
       "      <td>5.00</td>\n",
       "      <td>9.92</td>\n",
       "      <td>1.00</td>\n",
       "      <td>0.97</td>\n",
       "    </tr>\n",
       "  </tbody>\n",
       "</table>\n",
       "</div>"
      ],
      "text/plain": [
       "       GRE Score  TOEFL Score  University Rating     SOP    LOR     CGPA  \\\n",
       "count     500.00       500.00             500.00  500.00  500.00  500.00   \n",
       "mean      316.47       107.19               3.11    3.37    3.48    8.58   \n",
       "std        11.30         6.08               1.14    0.99    0.93    0.60   \n",
       "min       290.00        92.00               1.00    1.00    1.00    6.80   \n",
       "25%       308.00       103.00               2.00    2.50    3.00    8.13   \n",
       "50%       317.00       107.00               3.00    3.50    3.50    8.56   \n",
       "75%       325.00       112.00               4.00    4.00    4.00    9.04   \n",
       "max       340.00       120.00               5.00    5.00    5.00    9.92   \n",
       "\n",
       "       Research  Chance of Admit  \n",
       "count    500.00           500.00  \n",
       "mean       0.56             0.72  \n",
       "std        0.50             0.14  \n",
       "min        0.00             0.34  \n",
       "25%        0.00             0.63  \n",
       "50%        1.00             0.72  \n",
       "75%        1.00             0.82  \n",
       "max        1.00             0.97  "
      ]
     },
     "execution_count": 4,
     "metadata": {},
     "output_type": "execute_result"
    }
   ],
   "source": [
    "dataset.describe().round(2)"
   ]
  },
  {
   "cell_type": "markdown",
   "id": "901cc644-751b-48d2-baab-51dddd7424b9",
   "metadata": {},
   "source": [
    "#### Uma das vantagens da decomposição QR."
   ]
  },
  {
   "cell_type": "markdown",
   "id": "208841f2-d937-4fc3-8590-a4438ff9bab3",
   "metadata": {},
   "source": [
    "Apenas para reforçar a escolha da decomposição QR, computando a correlação dois a dois das variáveis, pode-se perceber que a chance de admissão está fortemente ligada as variáveis independentes `GRE Score`, `CGPA` e `TOEFL Score`. Se fossemos resolver de forma \"tradicional\", esse tipo de observação seria importante, dado que é melhor que escolhamos variáveis com maior influência no resultado, desde que não existam recursos altamente correlacionados.\n",
    "\n",
    "No caso do dataset usado, as variáveis mencionadas possuem de fato uma alta correlação, o que dificultaria um resultado preciso, porém, a decomposição QR é capaz de lidar efetivamente com matrizes singulares ou mal condicionadas."
   ]
  },
  {
   "cell_type": "code",
   "execution_count": 5,
   "id": "33818397-0715-40ed-80a7-00b7111fbb1b",
   "metadata": {},
   "outputs": [
    {
     "data": {
      "text/html": [
       "<div>\n",
       "<style scoped>\n",
       "    .dataframe tbody tr th:only-of-type {\n",
       "        vertical-align: middle;\n",
       "    }\n",
       "\n",
       "    .dataframe tbody tr th {\n",
       "        vertical-align: top;\n",
       "    }\n",
       "\n",
       "    .dataframe thead th {\n",
       "        text-align: right;\n",
       "    }\n",
       "</style>\n",
       "<table border=\"1\" class=\"dataframe\">\n",
       "  <thead>\n",
       "    <tr style=\"text-align: right;\">\n",
       "      <th></th>\n",
       "      <th>GRE Score</th>\n",
       "      <th>TOEFL Score</th>\n",
       "      <th>University Rating</th>\n",
       "      <th>SOP</th>\n",
       "      <th>LOR</th>\n",
       "      <th>CGPA</th>\n",
       "      <th>Research</th>\n",
       "      <th>Chance of Admit</th>\n",
       "    </tr>\n",
       "  </thead>\n",
       "  <tbody>\n",
       "    <tr>\n",
       "      <th>GRE Score</th>\n",
       "      <td>1.00</td>\n",
       "      <td>0.83</td>\n",
       "      <td>0.64</td>\n",
       "      <td>0.61</td>\n",
       "      <td>0.52</td>\n",
       "      <td>0.83</td>\n",
       "      <td>0.56</td>\n",
       "      <td>0.81</td>\n",
       "    </tr>\n",
       "    <tr>\n",
       "      <th>TOEFL Score</th>\n",
       "      <td>0.83</td>\n",
       "      <td>1.00</td>\n",
       "      <td>0.65</td>\n",
       "      <td>0.64</td>\n",
       "      <td>0.54</td>\n",
       "      <td>0.81</td>\n",
       "      <td>0.47</td>\n",
       "      <td>0.79</td>\n",
       "    </tr>\n",
       "    <tr>\n",
       "      <th>University Rating</th>\n",
       "      <td>0.64</td>\n",
       "      <td>0.65</td>\n",
       "      <td>1.00</td>\n",
       "      <td>0.73</td>\n",
       "      <td>0.61</td>\n",
       "      <td>0.71</td>\n",
       "      <td>0.43</td>\n",
       "      <td>0.69</td>\n",
       "    </tr>\n",
       "    <tr>\n",
       "      <th>SOP</th>\n",
       "      <td>0.61</td>\n",
       "      <td>0.64</td>\n",
       "      <td>0.73</td>\n",
       "      <td>1.00</td>\n",
       "      <td>0.66</td>\n",
       "      <td>0.71</td>\n",
       "      <td>0.41</td>\n",
       "      <td>0.68</td>\n",
       "    </tr>\n",
       "    <tr>\n",
       "      <th>LOR</th>\n",
       "      <td>0.52</td>\n",
       "      <td>0.54</td>\n",
       "      <td>0.61</td>\n",
       "      <td>0.66</td>\n",
       "      <td>1.00</td>\n",
       "      <td>0.64</td>\n",
       "      <td>0.37</td>\n",
       "      <td>0.65</td>\n",
       "    </tr>\n",
       "    <tr>\n",
       "      <th>CGPA</th>\n",
       "      <td>0.83</td>\n",
       "      <td>0.81</td>\n",
       "      <td>0.71</td>\n",
       "      <td>0.71</td>\n",
       "      <td>0.64</td>\n",
       "      <td>1.00</td>\n",
       "      <td>0.50</td>\n",
       "      <td>0.88</td>\n",
       "    </tr>\n",
       "    <tr>\n",
       "      <th>Research</th>\n",
       "      <td>0.56</td>\n",
       "      <td>0.47</td>\n",
       "      <td>0.43</td>\n",
       "      <td>0.41</td>\n",
       "      <td>0.37</td>\n",
       "      <td>0.50</td>\n",
       "      <td>1.00</td>\n",
       "      <td>0.55</td>\n",
       "    </tr>\n",
       "    <tr>\n",
       "      <th>Chance of Admit</th>\n",
       "      <td>0.81</td>\n",
       "      <td>0.79</td>\n",
       "      <td>0.69</td>\n",
       "      <td>0.68</td>\n",
       "      <td>0.65</td>\n",
       "      <td>0.88</td>\n",
       "      <td>0.55</td>\n",
       "      <td>1.00</td>\n",
       "    </tr>\n",
       "  </tbody>\n",
       "</table>\n",
       "</div>"
      ],
      "text/plain": [
       "                   GRE Score  TOEFL Score  University Rating   SOP  LOR   \\\n",
       "GRE Score               1.00         0.83               0.64  0.61  0.52   \n",
       "TOEFL Score             0.83         1.00               0.65  0.64  0.54   \n",
       "University Rating       0.64         0.65               1.00  0.73  0.61   \n",
       "SOP                     0.61         0.64               0.73  1.00  0.66   \n",
       "LOR                     0.52         0.54               0.61  0.66  1.00   \n",
       "CGPA                    0.83         0.81               0.71  0.71  0.64   \n",
       "Research                0.56         0.47               0.43  0.41  0.37   \n",
       "Chance of Admit         0.81         0.79               0.69  0.68  0.65   \n",
       "\n",
       "                   CGPA  Research  Chance of Admit  \n",
       "GRE Score          0.83      0.56             0.81  \n",
       "TOEFL Score        0.81      0.47             0.79  \n",
       "University Rating  0.71      0.43             0.69  \n",
       "SOP                0.71      0.41             0.68  \n",
       "LOR                0.64      0.37             0.65  \n",
       "CGPA               1.00      0.50             0.88  \n",
       "Research           0.50      1.00             0.55  \n",
       "Chance of Admit    0.88      0.55             1.00  "
      ]
     },
     "execution_count": 5,
     "metadata": {},
     "output_type": "execute_result"
    }
   ],
   "source": [
    "dataset.corr().round(2)"
   ]
  },
  {
   "cell_type": "markdown",
   "id": "9befae1f-79bb-4952-b835-78f7865615c6",
   "metadata": {},
   "source": [
    "### Construção da Matriz $A$ e o Vetor $b$"
   ]
  },
  {
   "cell_type": "markdown",
   "id": "d2d3800e-83dd-44cd-939b-493d70bee49a",
   "metadata": {},
   "source": [
    "Agora vamos determinar quem é a variável dependente e quem são as variáveis independentes, no caso, \"Chance of Admit\" e todas as outras, respectivamente."
   ]
  },
  {
   "cell_type": "code",
   "execution_count": 6,
   "id": "71ebc846-5f07-427d-a728-3d61437adc92",
   "metadata": {},
   "outputs": [],
   "source": [
    "y = dataset[\"Chance of Admit\"]\n",
    "X = dataset[dataset.columns[:-1]]"
   ]
  },
  {
   "cell_type": "markdown",
   "id": "a31bb754-9298-467f-a5d3-074ae985f690",
   "metadata": {},
   "source": [
    "Após determinar os recursos e a variável dependente, precisamos separar os dados em conjuntos de treinamento e teste, sendo $70\\%$ e $30\\%$ respectivamente para cada grupo. Usamos a função train_test_split da biblioteca SciKit Learn."
   ]
  },
  {
   "cell_type": "code",
   "execution_count": 7,
   "id": "f5b97e1c-d8cf-433e-9c2e-c70cd63d4b97",
   "metadata": {},
   "outputs": [
    {
     "name": "stdout",
     "output_type": "stream",
     "text": [
      "X_train.shape (350, 7)\n",
      "X_test.shape (150, 7)\n",
      "y_train.shape (350,)\n",
      "y_test.shape (150,)\n"
     ]
    }
   ],
   "source": [
    "X_train, X_test, y_train, y_test = train_test_split(X, y, test_size=0.3, random_state=42)\n",
    "print(\"X_train.shape\", X_train.shape)\n",
    "print(\"X_test.shape\", X_test.shape)\n",
    "print(\"y_train.shape\", y_train.shape)\n",
    "print(\"y_test.shape\", y_test.shape)"
   ]
  },
  {
   "cell_type": "markdown",
   "id": "13dcc8ec-f1f1-4764-bcb5-6fc9a4a48110",
   "metadata": {},
   "source": [
    "O objetivo dos proximos dois passos é preparar os dados de treinamento para a análise de regressão. A matriz A é construída com os recursos do conjunto de treinamento, sendo adicionada uma coluna de 1s com funções do numpy para incluir o termo de viés. Este termo permite que o modelo aprenda um intercepto além das relações lineares entre os recursos e a variável dependente. Já o vetor b é construído com os valores da variável dependente correspondentes aos exemplos de treinamento."
   ]
  },
  {
   "cell_type": "code",
   "execution_count": 8,
   "id": "219b1f37-6a87-4142-a5b2-29073efe04ac",
   "metadata": {},
   "outputs": [
    {
     "data": {
      "text/plain": [
       "array([[330.  , 115.  ,   5.  , ...,   9.34,   1.  ,   1.  ],\n",
       "       [299.  , 102.  ,   3.  , ...,   8.62,   0.  ,   1.  ],\n",
       "       [322.  , 110.  ,   5.  , ...,   9.1 ,   1.  ,   1.  ],\n",
       "       ...,\n",
       "       [302.  ,  99.  ,   1.  , ...,   7.25,   0.  ,   1.  ],\n",
       "       [309.  , 105.  ,   2.  , ...,   7.68,   0.  ,   1.  ],\n",
       "       [314.  , 106.  ,   2.  , ...,   8.25,   0.  ,   1.  ]])"
      ]
     },
     "execution_count": 8,
     "metadata": {},
     "output_type": "execute_result"
    }
   ],
   "source": [
    "X_train_bias = add_bias_column(X_train)\n",
    "X_train_bias"
   ]
  },
  {
   "cell_type": "code",
   "execution_count": 9,
   "id": "2ec0730a-bc0e-4a2a-9475-59e2a0fd436e",
   "metadata": {},
   "outputs": [
    {
     "name": "stdout",
     "output_type": "stream",
     "text": [
      "A: [[330.   115.     5.   ...   9.34   1.     1.  ]\n",
      " [299.   102.     3.   ...   8.62   0.     1.  ]\n",
      " [322.   110.     5.   ...   9.1    1.     1.  ]\n",
      " ...\n",
      " [302.    99.     1.   ...   7.25   0.     1.  ]\n",
      " [309.   105.     2.   ...   7.68   0.     1.  ]\n",
      " [314.   106.     2.   ...   8.25   0.     1.  ]]\n",
      "-----------------\n",
      "b: 5      0.90\n",
      "116    0.56\n",
      "45     0.88\n",
      "16     0.66\n",
      "462    0.62\n",
      "       ... \n",
      "106    0.87\n",
      "270    0.72\n",
      "348    0.57\n",
      "435    0.55\n",
      "102    0.62\n",
      "Name: Chance of Admit, Length: 350, dtype: float64\n"
     ]
    }
   ],
   "source": [
    "A = X_train_bias\n",
    "b = y_train\n",
    "print(\"A:\", A)\n",
    "print(\"-----------------\")\n",
    "print(\"b:\", b)"
   ]
  },
  {
   "cell_type": "markdown",
   "id": "83f0ed56-5478-4c16-bb49-88a64eb95a06",
   "metadata": {},
   "source": [
    "Aqui ocorre a decomposição de $A$ em duas matrizes $Q$ e $R$, onde $Q$ é ortogonal e $R$ é triangular superior. A função `qr()` é usada para calcular essa decomposição. Em seguida, a equação normal é resolvida utilizando a função `solve_triangular()` para encontrar os coeficientes do modelo."
   ]
  },
  {
   "cell_type": "code",
   "execution_count": 10,
   "id": "0a96f8d4-8e46-40aa-88ee-931b9e8a2210",
   "metadata": {},
   "outputs": [],
   "source": [
    "Q, R = qr(A, mode='economic')"
   ]
  },
  {
   "cell_type": "code",
   "execution_count": 11,
   "id": "79e72ff1-8410-4ae2-abeb-eb10e80b40e7",
   "metadata": {},
   "outputs": [],
   "source": [
    "coefficients = solve_triangular(R, np.dot(Q.T, b))"
   ]
  },
  {
   "cell_type": "markdown",
   "id": "7b2c74cd-60a7-4eda-bbaa-3bce3b2c3f18",
   "metadata": {},
   "source": [
    "A partir daqui temos o nosso modelo treinado, com os coeficientes necessários para fazer a predição da chance de admissão baseado nos recursos que forem fornecidos. "
   ]
  },
  {
   "cell_type": "markdown",
   "id": "fecf699d-a897-406d-93fe-24ef0405e99d",
   "metadata": {},
   "source": [
    "## Testes"
   ]
  },
  {
   "cell_type": "markdown",
   "id": "c924d22f-69e5-4d69-9205-611b282939de",
   "metadata": {},
   "source": [
    "### Calculando resultado"
   ]
  },
  {
   "cell_type": "markdown",
   "id": "24c3a12b-79d2-4c42-8905-778149f85673",
   "metadata": {},
   "source": [
    "Para testar o modelo que foi treinado, vamos repetir o mesmo passo de preparação que fizemos com os dados de treino, porém agora com os de teste."
   ]
  },
  {
   "cell_type": "code",
   "execution_count": 12,
   "id": "a24b1b88-2698-4bf8-87f6-0b0482713231",
   "metadata": {},
   "outputs": [
    {
     "data": {
      "text/plain": [
       "array([[334.  , 116.  ,   4.  , ...,   9.54,   1.  ,   1.  ],\n",
       "       [314.  , 108.  ,   4.  , ...,   9.04,   1.  ,   1.  ],\n",
       "       [315.  , 105.  ,   2.  , ...,   7.65,   0.  ,   1.  ],\n",
       "       ...,\n",
       "       [324.  , 113.  ,   4.  , ...,   8.79,   0.  ,   1.  ],\n",
       "       [312.  , 104.  ,   3.  , ...,   8.09,   0.  ,   1.  ],\n",
       "       [312.  , 106.  ,   3.  , ...,   8.57,   0.  ,   1.  ]])"
      ]
     },
     "execution_count": 12,
     "metadata": {},
     "output_type": "execute_result"
    }
   ],
   "source": [
    "X_test_bias = add_bias_column(X_test)\n",
    "X_test_bias"
   ]
  },
  {
   "cell_type": "markdown",
   "id": "dfa36cc9-f2e1-4a7e-b182-aaa0d4b9c492",
   "metadata": {},
   "source": [
    "Agora para calcular as predições, basta calcular o produto escalar (interno) entre os recursos, nesse caso a matriz de teste com viés, e os coeficientes obtidos."
   ]
  },
  {
   "cell_type": "code",
   "execution_count": 13,
   "id": "f39d3b2a-8403-410a-acbd-6d5b887bda4f",
   "metadata": {},
   "outputs": [
    {
     "data": {
      "text/plain": [
       "array([0.91741506, 0.79586339, 0.57331415, 0.71296937, 0.81766541,\n",
       "       0.86159946, 0.47853569, 0.65501836, 0.82444308, 0.80745246,\n",
       "       0.72441143, 0.73075277, 0.65336494, 0.93602084, 0.82603249,\n",
       "       0.51251694, 0.83678742, 0.59441502, 0.53763563, 0.56844851,\n",
       "       0.66183719, 0.55405325, 0.71919744, 0.79241287, 0.78092962,\n",
       "       0.60437535, 0.95120337, 0.84627844, 0.62940907, 0.74281956,\n",
       "       0.55814697, 0.73597733, 0.54933106, 0.86192594, 0.65322038,\n",
       "       0.73614535, 0.55561053, 0.9588285 , 0.64202803, 0.70997521,\n",
       "       0.96801486, 0.57117293, 0.66729947, 0.85771049, 0.94159306,\n",
       "       0.58142542, 0.95967505, 0.83736121, 0.7912764 , 0.92684222,\n",
       "       0.88830229, 0.56385625, 0.70660472, 0.5220698 , 0.95425583,\n",
       "       0.59561912, 0.95867003, 0.74402994, 0.66664456, 0.49857978,\n",
       "       0.63114266, 0.67738991, 0.6020934 , 0.59462762, 0.44030549,\n",
       "       0.58979469, 0.8672294 , 0.89754515, 0.66041412, 0.70992114,\n",
       "       0.6143678 , 0.78484261, 0.69143165, 0.56383959, 0.55636543,\n",
       "       0.65574003, 0.84804445, 0.86497554, 0.53881284, 0.62893439,\n",
       "       0.77153182, 0.84840409, 0.62215057, 0.84544393, 0.7289019 ,\n",
       "       0.66130376, 0.60845966, 0.73692517, 0.78872345, 0.6648398 ,\n",
       "       0.74091381, 0.91007619, 0.91369795, 0.6532292 , 0.77753724,\n",
       "       0.43659144, 0.68799781, 0.78433017, 0.733823  , 0.65171076,\n",
       "       0.79283392, 0.74642847, 0.6476612 , 0.67331261, 0.65208602,\n",
       "       0.54702022, 0.72940561, 0.80748331, 0.63346592, 0.69207323,\n",
       "       0.64505692, 0.95438094, 0.84563686, 0.97052731, 0.46464272,\n",
       "       0.82127194, 0.673043  , 0.88556651, 0.49832123, 0.68802218,\n",
       "       0.71831487, 0.88852693, 0.72171298, 0.74818822, 0.69051285,\n",
       "       0.69553428, 0.56992002, 0.99525972, 0.84642147, 0.51564501,\n",
       "       0.71818546, 0.72521733, 0.84506824, 0.52272692, 0.82674139,\n",
       "       0.50446401, 0.82578893, 0.96535771, 0.66067183, 0.68167975,\n",
       "       0.8017707 , 0.62261393, 0.81798913, 0.53023722, 0.94840466,\n",
       "       0.65925009, 0.96605385, 0.78560956, 0.64233784, 0.71923185])"
      ]
     },
     "execution_count": 13,
     "metadata": {},
     "output_type": "execute_result"
    }
   ],
   "source": [
    "y_pred = np.dot(X_test_bias, coefficients)\n",
    "y_pred"
   ]
  },
  {
   "cell_type": "markdown",
   "id": "22a36615-f047-46f9-97bf-5adae9b31d26",
   "metadata": {},
   "source": [
    "### Verificando erro"
   ]
  },
  {
   "cell_type": "markdown",
   "id": "ed0110db-dde6-4fac-8a99-7e56cb2cce1d",
   "metadata": {},
   "source": [
    "Após feita a estimação da variável dependente, o RMSE é calculado comparando os valores previstos com os valores reais no conjunto de teste. Isso fornece uma medida da precisão do modelo."
   ]
  },
  {
   "cell_type": "code",
   "execution_count": 14,
   "id": "862ba1c6-e32d-4810-8669-db8bd3655c16",
   "metadata": {},
   "outputs": [
    {
     "name": "stdout",
     "output_type": "stream",
     "text": [
      "RMSE: 0.060284473965118976\n"
     ]
    }
   ],
   "source": [
    "rmse = calculate_rmse(y_test, y_pred)\n",
    "print(\"RMSE:\", rmse)"
   ]
  },
  {
   "cell_type": "markdown",
   "id": "04b928c1-b00a-4333-a611-b26f402fa3c0",
   "metadata": {},
   "source": [
    "## Visualizando os resultados"
   ]
  },
  {
   "cell_type": "markdown",
   "id": "2ead3e34-b302-43d4-b64e-215be4ca49b0",
   "metadata": {},
   "source": [
    "Para entender melhor a performance do modelo, é útil visualizar a relação entre os valores reais e os valores previstos. O gráfico de dispersão abaixo foi criado com os valores reais no eixo x e os valores previstos no eixo y. A reta pontilhada indica onde os pontos deveriam estar se os valores previstos fossem perfeitamente iguais aos valores reais."
   ]
  },
  {
   "cell_type": "code",
   "execution_count": 15,
   "id": "d0e78e3c-c4c4-4340-83e9-dd549675d533",
   "metadata": {},
   "outputs": [
    {
     "data": {
      "image/png": "[encoded data removed]",
      "text/plain": [
       "<Figure size 640x480 with 1 Axes>"
      ]
     },
     "metadata": {},
     "output_type": "display_data"
    }
   ],
   "source": [
    "plot_real_vs_pred_graph(y_test, y_pred)"
   ]
  },
  {
   "cell_type": "markdown",
   "id": "9f964dcb-8a5e-4bc2-a824-70b649254ff2",
   "metadata": {},
   "source": [
    "Como solicitado, também vamos visualizar os resultados para predições feitas em cima do conjunto de treinamento"
   ]
  },
  {
   "cell_type": "code",
   "execution_count": 16,
   "id": "d69c41db-d5f6-43d8-84af-035b54abe734",
   "metadata": {},
   "outputs": [
    {
     "data": {
      "image/png": "[encoded data removed]",
      "text/plain": [
       "<Figure size 640x480 with 1 Axes>"
      ]
     },
     "metadata": {},
     "output_type": "display_data"
    }
   ],
   "source": [
    "y_pred_train = np.dot(X_train_bias, coefficients)\n",
    "\n",
    "plot_real_vs_pred_graph(y_train, y_pred_train)"
   ]
  },
  {
   "cell_type": "code",
   "execution_count": 17,
   "id": "5996a78a-98ae-4e34-a4f9-247dbdb844cf",
   "metadata": {},
   "outputs": [
    {
     "name": "stdout",
     "output_type": "stream",
     "text": [
      "RMSE treinamento: 0.05946908400510449\n"
     ]
    }
   ],
   "source": [
    "print(\"RMSE treinamento:\", calculate_rmse(y_train, y_pred_train))"
   ]
  }
 ],
 "metadata": {
  "kernelspec": {
   "display_name": "Python 3 (ipykernel)",
   "language": "python",
   "name": "python3"
  },
  "language_info": {
   "codemirror_mode": {
    "name": "ipython",
    "version": 3
   },
   "file_extension": ".py",
   "mimetype": "text/x-python",
   "name": "python",
   "nbconvert_exporter": "python",
   "pygments_lexer": "ipython3",
   "version": "3.12.3"
  }
 },
 "nbformat": 4,
 "nbformat_minor": 5
}
